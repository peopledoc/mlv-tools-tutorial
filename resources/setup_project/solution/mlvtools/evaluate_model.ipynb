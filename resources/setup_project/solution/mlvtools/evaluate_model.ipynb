{
 "cells": [
  {
   "cell_type": "code",
   "execution_count": null,
   "metadata": {},
   "outputs": [],
   "source": [
    "\"\"\"\n",
    ":param str model_path: Path to the model input file\n",
    ":param str dataset_path: Path to the dataset input file\n",
    ":param str metrics_path: Path to the result metrics output file\n",
    "\n",
    ":dvc-in model_path: ./data/model/classifier.bin\n",
    ":dvc-in dataset_path: ./data/intermediate/test_dataset.txt\n",
    ":dvc-out metrics_path: ./data/result/metrics_test.txt\n",
    "\"\"\"\n",
    "# Following code in this cell will not be add in the generated Python script\n",
    "# They are values only for notebook purpose\n",
    "model_path = '../data/model/classifier.bin'\n",
    "dataset_path = '../data/intermediate/test_dataset.txt'\n",
    "metrics_path = '../data/result/metrics_test.txt'"
   ]
  },
  {
   "cell_type": "code",
   "execution_count": null,
   "metadata": {},
   "outputs": [],
   "source": [
    "# No effect\n",
    "with open(dataset_path, 'r') as fd:\n",
    "        test_data_lines = fd.readlines()\n",
    "test_data_lines"
   ]
  },
  {
   "cell_type": "code",
   "execution_count": null,
   "metadata": {},
   "outputs": [],
   "source": [
    "import fasttext as ft\n",
    "\n",
    "model = ft.load_model(model_path)\n",
    "result = model.test(dataset_path)"
   ]
  },
  {
   "cell_type": "code",
   "execution_count": null,
   "metadata": {},
   "outputs": [],
   "source": [
    "metrics = [\n",
    "    f'Precision@1: {result.precision}',\n",
    "    f'Recall@1: {result.recall}',\n",
    "    f'Nb review: {result.nexamples}'\n",
    "]"
   ]
  },
  {
   "cell_type": "code",
   "execution_count": null,
   "metadata": {},
   "outputs": [],
   "source": [
    "# No effect\n",
    "for line in metrics:\n",
    "    print(line)"
   ]
  },
  {
   "cell_type": "code",
   "execution_count": null,
   "metadata": {},
   "outputs": [],
   "source": [
    "from classifier.helper import write_lines_file\n",
    "\n",
    "write_lines_file(metrics_path, metrics)"
   ]
  }
 ],
 "metadata": {
  "kernelspec": {
   "display_name": "Python 3",
   "language": "python",
   "name": "python3"
  },
  "language_info": {
   "codemirror_mode": {
    "name": "ipython",
    "version": 3
   },
   "file_extension": ".py",
   "mimetype": "text/x-python",
   "name": "python",
   "nbconvert_exporter": "python",
   "pygments_lexer": "ipython3",
   "version": "3.6.7"
  }
 },
 "nbformat": 4,
 "nbformat_minor": 2
}
