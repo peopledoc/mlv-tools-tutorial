{
 "cells": [
  {
   "cell_type": "code",
   "execution_count": null,
   "metadata": {},
   "outputs": [],
   "source": [
    "\"\"\"\n",
    ":param str extracted_data_path: Path extracted data input file\n",
    ":param str preprocessed_data_path: Path to the preprocessed data output file\n",
    "\n",
    ":dvc-in extracted_data_path: ./data/intermediate/extracted_data.json\n",
    ":dvc-out preprocessed_data_path: ./data/intermediate/preprocessed_data.json\n",
    "\"\"\"\n",
    "# Following code in this cell will not be add in the generated Python script\n",
    "# They are values only for notebook purpose\n",
    "extracted_data_path = '../data/intermediate/extracted_data.json'\n",
    "preprocessed_data_path = '../data/intermediate/preprocessed_data.json'"
   ]
  },
  {
   "cell_type": "code",
   "execution_count": null,
   "metadata": {},
   "outputs": [],
   "source": [
    "import json\n",
    "with open(extracted_data_path) as fd:\n",
    "        extracted_data = json.load(fd)"
   ]
  },
  {
   "cell_type": "code",
   "execution_count": null,
   "metadata": {},
   "outputs": [],
   "source": [
    "# No effect\n",
    "extracted_data"
   ]
  },
  {
   "cell_type": "code",
   "execution_count": null,
   "metadata": {},
   "outputs": [],
   "source": [
    "# No effect\n",
    "from collections import Counter\n",
    "nb_review_by_labels = Counter([d[0] for d in extracted_data])\n",
    "\n",
    "nb_review_by_labels.most_common()"
   ]
  },
  {
   "cell_type": "code",
   "execution_count": null,
   "metadata": {},
   "outputs": [],
   "source": [
    "from classifier.pre_process import preprocess_data\n",
    "\n",
    "preprocessed_data = preprocess_data(extracted_data)"
   ]
  },
  {
   "cell_type": "code",
   "execution_count": null,
   "metadata": {},
   "outputs": [],
   "source": [
    "# No effect\n",
    "preprocessed_data"
   ]
  },
  {
   "cell_type": "code",
   "execution_count": null,
   "metadata": {},
   "outputs": [],
   "source": [
    "# No effect\n",
    "from collections import Counter\n",
    "nb_review_by_labels = Counter([d.split()[0] for d in preprocessed_data])\n",
    "\n",
    "nb_review_by_labels.most_common()"
   ]
  },
  {
   "cell_type": "code",
   "execution_count": null,
   "metadata": {},
   "outputs": [],
   "source": [
    "from classifier.helper import write_json\n",
    "write_json(preprocessed_data_path, preprocessed_data)"
   ]
  }
 ],
 "metadata": {
  "kernelspec": {
   "display_name": "Python 3",
   "language": "python",
   "name": "python3"
  },
  "language_info": {
   "codemirror_mode": {
    "name": "ipython",
    "version": 3
   },
   "file_extension": ".py",
   "mimetype": "text/x-python",
   "name": "python",
   "nbconvert_exporter": "python",
   "pygments_lexer": "ipython3",
   "version": "3.6.7"
  }
 },
 "nbformat": 4,
 "nbformat_minor": 2
}
