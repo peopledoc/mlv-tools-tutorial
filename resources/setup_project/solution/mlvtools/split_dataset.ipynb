{
 "cells": [
  {
   "cell_type": "code",
   "execution_count": null,
   "metadata": {},
   "outputs": [],
   "source": [
    "\"\"\"\n",
    ":param str preprocessed_data_path: Path to preprocessed data input file\n",
    ":param str train_dataset_path: Path to the train data output file\n",
    ":param str test_dataset_path: Path to the test data output file\n",
    ":param float test_percent: Percentage of test data (example: 0.15)\n",
    " \n",
    ":dvc-in preprocessed_data_path: ./data/intermediate/preprocessed_data.json\n",
    ":dvc-out train_dataset_path: ./data/intermediate/train_dataset.txt\n",
    ":dvc-out test_dataset_path: ./data/intermediate/test_dataset.txt\n",
    ":dvc-extra: --test-percent 0.15\n",
    "\"\"\"\n",
    "# Following code in this cell will not be add in the generated Python script\n",
    "# They are values only for notebook purpose\n",
    "preprocessed_data_path = '../data/intermediate/preprocessed_data.json'\n",
    "train_dataset_path = '../data/intermediate/train_dataset.txt'\n",
    "test_dataset_path = '../data/intermediate/test_dataset.txt'\n",
    "test_percent = 0.15"
   ]
  },
  {
   "cell_type": "code",
   "execution_count": null,
   "metadata": {},
   "outputs": [],
   "source": [
    "import json\n",
    "with open(preprocessed_data_path, 'r') as fd:\n",
    "        preprocessed_data = json.load(fd)"
   ]
  },
  {
   "cell_type": "code",
   "execution_count": null,
   "metadata": {},
   "outputs": [],
   "source": [
    "# No effect\n",
    "preprocessed_data"
   ]
  },
  {
   "cell_type": "code",
   "execution_count": null,
   "metadata": {},
   "outputs": [],
   "source": [
    "# No effect\n",
    "len(preprocessed_data)"
   ]
  },
  {
   "cell_type": "code",
   "execution_count": null,
   "metadata": {},
   "outputs": [],
   "source": [
    "from classifier.split import split_dataset\n",
    "\n",
    "\n",
    "test_dataset, train_dataset = split_dataset(preprocessed_data, test_percent)"
   ]
  },
  {
   "cell_type": "code",
   "execution_count": null,
   "metadata": {},
   "outputs": [],
   "source": [
    "# No effect\n",
    "len(test_dataset), len(train_dataset)"
   ]
  },
  {
   "cell_type": "code",
   "execution_count": null,
   "metadata": {},
   "outputs": [],
   "source": [
    "# No effect\n",
    "test_dataset"
   ]
  },
  {
   "cell_type": "code",
   "execution_count": null,
   "metadata": {},
   "outputs": [],
   "source": [
    "# No effect\n",
    "from collections import Counter\n",
    "test_review_by_labels = Counter([d.split()[0] for d in test_dataset])\n",
    "train_review_by_labels = Counter([d.split()[0] for d in train_dataset])\n",
    "\n",
    "test_review_by_labels.most_common()"
   ]
  },
  {
   "cell_type": "code",
   "execution_count": null,
   "metadata": {},
   "outputs": [],
   "source": [
    "# No effect\n",
    "train_review_by_labels.most_common()"
   ]
  },
  {
   "cell_type": "code",
   "execution_count": null,
   "metadata": {},
   "outputs": [],
   "source": [
    "from classifier.helper import write_lines_file\n",
    "\n",
    "write_lines_file(train_dataset_path, train_dataset)\n",
    "write_lines_file(test_dataset_path, test_dataset)\n"
   ]
  }
 ],
 "metadata": {
  "kernelspec": {
   "display_name": "Python 3",
   "language": "python",
   "name": "python3"
  },
  "language_info": {
   "codemirror_mode": {
    "name": "ipython",
    "version": 3
   },
   "file_extension": ".py",
   "mimetype": "text/x-python",
   "name": "python",
   "nbconvert_exporter": "python",
   "pygments_lexer": "ipython3",
   "version": "3.6.7"
  }
 },
 "nbformat": 4,
 "nbformat_minor": 2
}
