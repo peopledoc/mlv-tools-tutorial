{
 "cells": [
  {
   "cell_type": "code",
   "execution_count": null,
   "metadata": {},
   "outputs": [],
   "source": [
    "\"\"\"\n",
    ":param str reviews_path: Path to the reviews JSON input file\n",
    ":param str extracted_data_path: Path to the extracted data output file\n",
    " \n",
    ":dvc-in reviews_path: ./data/input/trip_advisor.json\n",
    ":dvc-out extracted_data_path: ./data/intermediate/extracted_data.json\n",
    "\"\"\"\n",
    "# Following code in this cell will not be add in the generated Python script\n",
    "# They are values only for notebook purpose\n",
    "reviews_path = '../data/input/trip_advisor.json'\n",
    "extracted_data_path = '../data/intermediate/extracted_data.json'"
   ]
  },
  {
   "cell_type": "code",
   "execution_count": null,
   "metadata": {},
   "outputs": [],
   "source": [
    "# No effect\n",
    "import json\n",
    "with open(reviews_path) as fd:\n",
    "    data = json.load(fd)\n",
    "data"
   ]
  },
  {
   "cell_type": "code",
   "execution_count": null,
   "metadata": {},
   "outputs": [],
   "source": [
    "# No effect\n",
    "len(data)"
   ]
  },
  {
   "cell_type": "code",
   "execution_count": null,
   "metadata": {},
   "outputs": [],
   "source": [
    "from classifier.extract import extract_data_from_inputs"
   ]
  },
  {
   "cell_type": "code",
   "execution_count": null,
   "metadata": {},
   "outputs": [],
   "source": [
    "extracted_data = extract_data_from_inputs(reviews_path)"
   ]
  },
  {
   "cell_type": "code",
   "execution_count": null,
   "metadata": {},
   "outputs": [],
   "source": [
    "# No effect\n",
    "extracted_data"
   ]
  },
  {
   "cell_type": "code",
   "execution_count": null,
   "metadata": {},
   "outputs": [],
   "source": [
    "# No effect\n",
    "len(extracted_data)"
   ]
  },
  {
   "cell_type": "code",
   "execution_count": null,
   "metadata": {},
   "outputs": [],
   "source": [
    "from classifier.helper import write_json\n",
    "write_json(extracted_data_path, extracted_data)"
   ]
  }
 ],
 "metadata": {
  "kernelspec": {
   "display_name": "Python 3",
   "language": "python",
   "name": "python3"
  },
  "language_info": {
   "codemirror_mode": {
    "name": "ipython",
    "version": 3
   },
   "file_extension": ".py",
   "mimetype": "text/x-python",
   "name": "python",
   "nbconvert_exporter": "python",
   "pygments_lexer": "ipython3",
   "version": "3.6.7"
  }
 },
 "nbformat": 4,
 "nbformat_minor": 2
}
