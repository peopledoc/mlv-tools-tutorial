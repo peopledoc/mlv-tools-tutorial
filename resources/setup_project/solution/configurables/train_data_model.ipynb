{
 "cells": [
  {
   "cell_type": "code",
   "execution_count": null,
   "metadata": {},
   "outputs": [],
   "source": [
    "train_dataset_path = '../data/intermediate/train_dataset.txt'\n",
    "conf_path = '../data/input/conf.json'\n",
    "model_path = '../data/model/classifier.bin'"
   ]
  },
  {
   "cell_type": "code",
   "execution_count": null,
   "metadata": {},
   "outputs": [],
   "source": [
    "with open(train_dataset_path, 'r') as fd:\n",
    "        train_data_lines = fd.readlines()\n",
    "train_data_lines"
   ]
  },
  {
   "cell_type": "code",
   "execution_count": null,
   "metadata": {},
   "outputs": [],
   "source": [
    "import json\n",
    "with open(conf_path, 'r') as fd:\n",
    "    conf = json.load(fd)"
   ]
  },
  {
   "cell_type": "code",
   "execution_count": null,
   "metadata": {},
   "outputs": [],
   "source": [
    "conf"
   ]
  },
  {
   "cell_type": "code",
   "execution_count": null,
   "metadata": {},
   "outputs": [],
   "source": [
    "import fasttext as ft\n",
    "from tempfile import TemporaryDirectory\n",
    "import shutil\n",
    "from os import remove, makedirs\n",
    "from os.path import join, exists, dirname\n",
    "def train(fasttext_data_path: str, fasttext_model_path: str, epochs: int, learning_rate: float):\n",
    "    with TemporaryDirectory() as tmp_dir:\n",
    "        # Fasttext automatically add .bin at the end of the output model file name so\n",
    "        # we use a temporary file to keep control on output file path\n",
    "        model_tmp_path = join(tmp_dir, 'model')\n",
    "        ft.supervised(fasttext_data_path, model_tmp_path, lr=learning_rate, epoch=epochs, silent=0)\n",
    "        if exists(fasttext_model_path):\n",
    "            remove(fasttext_model_path)\n",
    "        makedirs(dirname(fasttext_model_path), exist_ok=True)\n",
    "        shutil.copy(f'{model_tmp_path}.bin', fasttext_model_path)\n",
    "\n"
   ]
  },
  {
   "cell_type": "code",
   "execution_count": null,
   "metadata": {},
   "outputs": [],
   "source": [
    "train(train_dataset_path, model_path, \n",
    "      epochs=conf['epoch'], learning_rate=conf['learning_rate'])"
   ]
  }
 ],
 "metadata": {
  "kernelspec": {
   "display_name": "Python 3",
   "language": "python",
   "name": "python3"
  },
  "language_info": {
   "codemirror_mode": {
    "name": "ipython",
    "version": 3
   },
   "file_extension": ".py",
   "mimetype": "text/x-python",
   "name": "python",
   "nbconvert_exporter": "python",
   "pygments_lexer": "ipython3",
   "version": "3.6.7"
  }
 },
 "nbformat": 4,
 "nbformat_minor": 2
}
